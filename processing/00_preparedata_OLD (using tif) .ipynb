{
 "cells": [
  {
   "cell_type": "code",
   "execution_count": null,
   "id": "f1fc351b",
   "metadata": {},
   "outputs": [],
   "source": [
    "import glob, sys, os\n",
    "import tifffile\n",
    "from pprint import pprint\n",
    "import matplotlib.pyplot as plt\n",
    "import skimage.transform \n",
    "import numpy as np\n",
    "\n",
    "import tqdm\n",
    "import pandas as pd\n",
    "import h5py\n",
    "\n"
   ]
  },
  {
   "cell_type": "code",
   "execution_count": null,
   "id": "9c866e97",
   "metadata": {},
   "outputs": [],
   "source": [
    "save_destination = '/home/shuonan.chen/scripts/Pons_MERFISH/registration_files/'"
   ]
  },
  {
   "cell_type": "code",
   "execution_count": null,
   "id": "a801f273",
   "metadata": {},
   "outputs": [],
   "source": [
    "globalscaling = 32\n",
    "name_of_slice = 'MouseZM_ZM4'\n",
    "\n",
    "main_dir = '/allen/aind/scratch/shuonan.chen/pons_images/'\n",
    "thisdircheck = (main_dir + name_of_slice + '/' + 'analyzed_data/*/region_*/')\n",
    "\n",
    "[os.path.basename(f) for f in glob.glob(thisdircheck+'/*')]"
   ]
  },
  {
   "cell_type": "code",
   "execution_count": null,
   "id": "aa909f1f",
   "metadata": {},
   "outputs": [],
   "source": [
    "# this is the cell location file\n",
    "cell_loc_path = glob.glob(thisdircheck + 'cell_metadata.csv')[0]\n",
    "print(cell_loc_path)\n",
    "\n",
    "# cell x gene file locatoin \n",
    "countmatrix_path = glob.glob(thisdircheck+'cell_by_gene.csv')[0]\n",
    "print(countmatrix_path)"
   ]
  },
  {
   "cell_type": "code",
   "execution_count": null,
   "id": "2e90935a",
   "metadata": {},
   "outputs": [],
   "source": []
  },
  {
   "cell_type": "markdown",
   "id": "dbe6a70a",
   "metadata": {},
   "source": [
    "# load cell positions"
   ]
  },
  {
   "cell_type": "code",
   "execution_count": null,
   "id": "f7f886da",
   "metadata": {},
   "outputs": [],
   "source": [
    "foo = pd.read_csv(cell_loc_path, index_col=0).sort_index()\n",
    "print(np.min(foo[['center_x','center_y']],0))"
   ]
  },
  {
   "cell_type": "markdown",
   "id": "b76a9adf",
   "metadata": {},
   "source": [
    "### adjust the coordinates"
   ]
  },
  {
   "cell_type": "code",
   "execution_count": null,
   "id": "1682adbf",
   "metadata": {},
   "outputs": [],
   "source": [
    "cell_pos_orig = foo[['center_x','center_y']]*np.array((sc_factor_1,sc_factor_2))\n",
    "# cell_pos_orig['center_x'] -= cell_pos_orig.center_x.min()\n",
    "# cell_pos_orig['center_y'] -= cell_pos_orig.center_y.min()\n",
    "cell_pos = foo[['center_x','center_y']]*np.array((sc_factor_1,sc_factor_2))/globalscaling\n",
    "# cell_pos['center_x'] -= cell_pos.center_x.min()\n",
    "# cell_pos['center_y'] -= cell_pos.center_y.min()"
   ]
  },
  {
   "cell_type": "code",
   "execution_count": null,
   "id": "bb99386a",
   "metadata": {},
   "outputs": [],
   "source": []
  },
  {
   "cell_type": "markdown",
   "id": "31a01e97",
   "metadata": {},
   "source": [
    "# load gene counts \n"
   ]
  },
  {
   "cell_type": "code",
   "execution_count": null,
   "id": "d69527ff",
   "metadata": {},
   "outputs": [],
   "source": [
    "count_mtx = pd.read_csv(countmatrix_path, index_col=0).sort_index()\n",
    "\n",
    "count_mtx.dropna(inplace=True)\n",
    "count_mtx.shape"
   ]
  },
  {
   "cell_type": "markdown",
   "id": "ca4e36f0",
   "metadata": {},
   "source": [
    "### de novo clustering "
   ]
  },
  {
   "cell_type": "code",
   "execution_count": null,
   "id": "4961c7c1",
   "metadata": {},
   "outputs": [],
   "source": [
    "import scanpy as sc\n",
    "adata_mer = sc.AnnData(count_mtx)\n",
    "sc.pp.normalize_total(adata_mer)\n",
    "sc.pp.log1p(adata_mer)\n",
    "sc.tl.pca(adata_mer,svd_solver=\"arpack\")"
   ]
  },
  {
   "cell_type": "code",
   "execution_count": null,
   "id": "0539e829",
   "metadata": {},
   "outputs": [],
   "source": [
    "sc.pp.neighbors(adata_mer, use_rep='X_pca')\n",
    "sc.tl.leiden(adata_mer,flavor=\"igraph\", n_iterations=2)\n",
    "sc.pl.pca(adata_mer, color='leiden')"
   ]
  },
  {
   "cell_type": "code",
   "execution_count": 1,
   "id": "696a8bc0",
   "metadata": {},
   "outputs": [
    {
     "ename": "NameError",
     "evalue": "name 'np' is not defined",
     "output_type": "error",
     "traceback": [
      "\u001b[0;31m---------------------------------------------------------------------------\u001b[0m",
      "\u001b[0;31mNameError\u001b[0m                                 Traceback (most recent call last)",
      "Cell \u001b[0;32mIn[1], line 1\u001b[0m\n\u001b[0;32m----> 1\u001b[0m total_K \u001b[38;5;241m=\u001b[39m \u001b[38;5;28mlen\u001b[39m(\u001b[43mnp\u001b[49m\u001b[38;5;241m.\u001b[39munique(np\u001b[38;5;241m.\u001b[39marray(adata_mer\u001b[38;5;241m.\u001b[39mobs[\u001b[38;5;124m'\u001b[39m\u001b[38;5;124mleiden\u001b[39m\u001b[38;5;124m'\u001b[39m])\u001b[38;5;241m.\u001b[39mastype(\u001b[38;5;28mint\u001b[39m)))\n",
      "\u001b[0;31mNameError\u001b[0m: name 'np' is not defined"
     ]
    }
   ],
   "source": [
    "total_K = len(np.unique(np.array(adata_mer.obs['leiden']).astype(int)))\n",
    "plt.figure(figsize = (10,10))\n",
    "for k,col in col_dict.items():\n",
    "    ids = np.where(np.array(adata_mer.obs['leiden']).astype(int)==k)[0]\n",
    "    X_k = cell_pos.iloc[ids].values\n",
    "    plt.scatter(X_k[:,0],X_k[:,1], color = col,s=.3, alpha =.4, label = k)   \n",
    "plt.gca().set_aspect('equal')    "
   ]
  },
  {
   "cell_type": "code",
   "execution_count": null,
   "id": "4b96e5a5",
   "metadata": {},
   "outputs": [],
   "source": []
  },
  {
   "cell_type": "markdown",
   "id": "c49966ed",
   "metadata": {},
   "source": [
    "### save"
   ]
  },
  {
   "cell_type": "code",
   "execution_count": null,
   "id": "1a905414",
   "metadata": {},
   "outputs": [],
   "source": [
    "neuron_id_series = pd.Series(cell_pos_orig.index, index=cell_pos_orig.index, name = 'neuron_id')\n",
    "cell_pos_orig.columns = ['x','y'] \n",
    "slice_seires = pd.Series(np.ones(cell_pos_orig.shape[0]).astype(int),name = 'slice', index=cell_pos_orig.index)\n",
    "subclass_series = pd.Series(np.array(adata_mer.obs['leiden']).astype(int),name = 'subclass', index=cell_pos_orig.index)\n",
    "clustid_series = pd.Series(np.array(adata_mer.obs['leiden']).astype(int),name = 'clustid', index=cell_pos_orig.index)\n",
    "filt_neuron = pd.concat([neuron_id_series,cell_pos_orig, slice_seires, subclass_series,clustid_series], axis=1)"
   ]
  },
  {
   "cell_type": "code",
   "execution_count": null,
   "id": "b3f9af0c",
   "metadata": {},
   "outputs": [],
   "source": [
    "filt_neuron.to_csv(save_destination+f'filt_neurons_{name_of_slice}.csv', index=False)"
   ]
  },
  {
   "cell_type": "code",
   "execution_count": null,
   "id": "f66b3771",
   "metadata": {},
   "outputs": [],
   "source": []
  },
  {
   "cell_type": "code",
   "execution_count": null,
   "id": "ee90b292",
   "metadata": {},
   "outputs": [],
   "source": []
  },
  {
   "cell_type": "markdown",
   "id": "838b6b4a",
   "metadata": {},
   "source": [
    "# laod tif files"
   ]
  },
  {
   "cell_type": "code",
   "execution_count": null,
   "id": "be48d812",
   "metadata": {},
   "outputs": [],
   "source": [
    "image_dir = glob.glob(thisdircheck + 'images/*.tif')\n",
    "assert(len(image_dir)==0)\n"
   ]
  },
  {
   "cell_type": "code",
   "execution_count": null,
   "id": "47c7ce9f",
   "metadata": {},
   "outputs": [],
   "source": [
    "print('this will take a long time..')\n",
    "tif_img = skimage.transform.rescale(tifffile.imread(image_dir[0]),1/globalscaling)\n"
   ]
  },
  {
   "cell_type": "code",
   "execution_count": null,
   "id": "e134ed60",
   "metadata": {},
   "outputs": [],
   "source": [
    "fig = plt.figure(figsize=(width/dpi, height/dpi), dpi=dpi)\n",
    "ax = plt.Axes(fig, [0., 0., 1., 1.])\n",
    "ax.set_axis_off()\n",
    "fig.add_axes(ax)\n",
    "ax.imshow((tif_img),cmap='gray', vmax = tif_img.max()*.1)\n",
    "for k,col in col_dict.items():\n",
    "    ids = np.where(np.array(adata_mer.obs['leiden']).astype(int)==k)[0]\n",
    "    X_k = cell_pos.iloc[ids].values\n",
    "    ax.scatter(X_k[:,0],X_k[:,1], color = col,s=1, alpha =.3, label = k)"
   ]
  },
  {
   "cell_type": "code",
   "execution_count": null,
   "id": "6bb23e31",
   "metadata": {},
   "outputs": [],
   "source": []
  },
  {
   "cell_type": "code",
   "execution_count": null,
   "id": "bc9d0ce6",
   "metadata": {},
   "outputs": [],
   "source": [
    "savefilename = save_destination + f'foo_output_{name_of_slice}.jpg'\n"
   ]
  },
  {
   "cell_type": "code",
   "execution_count": null,
   "id": "2bd3cfd8",
   "metadata": {},
   "outputs": [],
   "source": [
    "\n",
    "\n",
    "from matplotlib.backends.backend_agg import FigureCanvasAgg\n",
    "output_array = tif_img.astype(np.float32).copy()\n",
    "\n",
    "fig = plt.figure(figsize=(width/dpi, height/dpi), dpi=dpi)\n",
    "ax = plt.Axes(fig, [0., 0., 1., 1.])\n",
    "ax.set_axis_off()\n",
    "fig.add_axes(ax)\n",
    "\n",
    "ax.imshow(tif_img,cmap='gray', vmax = tif_img.max()*.1)\n",
    "for k,col in col_dict.items():\n",
    "    ids = np.where(np.array(adata_mer.obs['leiden']).astype(int)==k)[0]\n",
    "    X_k = cell_pos.iloc[ids].values\n",
    "    ax.scatter(X_k[:,0],X_k[:,1], color = col,s=1, alpha =.3, label = k)\n",
    "ax.set_xlim(0, width)\n",
    "ax.set_ylim(height, 0)    \n",
    "ax.set_aspect('equal')\n",
    "plt.savefig(savefilename, bbox_inches='tight', pad_inches=0)\n",
    "plt.close()"
   ]
  },
  {
   "cell_type": "code",
   "execution_count": null,
   "id": "95acb58a",
   "metadata": {},
   "outputs": [],
   "source": []
  },
  {
   "cell_type": "code",
   "execution_count": null,
   "id": "cd922ba3",
   "metadata": {},
   "outputs": [],
   "source": [
    "print(f'done for mouse: {name_of_slice}')"
   ]
  }
 ],
 "metadata": {
  "kernelspec": {
   "display_name": "allensdk",
   "language": "python",
   "name": "allensdk"
  },
  "language_info": {
   "codemirror_mode": {
    "name": "ipython",
    "version": 3
   },
   "file_extension": ".py",
   "mimetype": "text/x-python",
   "name": "python",
   "nbconvert_exporter": "python",
   "pygments_lexer": "ipython3",
   "version": "3.8.0"
  }
 },
 "nbformat": 4,
 "nbformat_minor": 5
}
