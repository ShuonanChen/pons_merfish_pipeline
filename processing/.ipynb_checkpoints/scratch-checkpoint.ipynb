{
 "cells": [
  {
   "cell_type": "markdown",
   "id": "4d3354c5",
   "metadata": {},
   "source": [
    "# get all the file directories"
   ]
  },
  {
   "cell_type": "code",
   "execution_count": 2,
   "id": "9646b9c7",
   "metadata": {},
   "outputs": [],
   "source": [
    "import glob, sys, os\n",
    "import tifffile\n",
    "from pprint import pprint\n",
    "import matplotlib.pyplot as plt\n",
    "import skimage.transform \n",
    "import numpy as np\n",
    "\n",
    "import tqdm\n",
    "import pandas as pd\n",
    "import h5py"
   ]
  },
  {
   "cell_type": "code",
   "execution_count": 10,
   "id": "29b5f5b9",
   "metadata": {},
   "outputs": [],
   "source": [
    "main_dir = '/allen/aind/scratch/shuonan.chen/pons_images/'\n",
    "all_tifs = (main_dir + '*/' + 'analyzed_data/*/region_*/images/*.tif')\n",
    "name_of_slice_all = [[s for s in f.split('/') if \"Mouse\" in s][0] for f in glob.glob(all_tifs)]"
   ]
  },
  {
   "cell_type": "code",
   "execution_count": 22,
   "id": "1c6d2073",
   "metadata": {},
   "outputs": [],
   "source": []
  },
  {
   "cell_type": "code",
   "execution_count": null,
   "id": "a8e4dde3",
   "metadata": {},
   "outputs": [],
   "source": []
  },
  {
   "cell_type": "code",
   "execution_count": null,
   "id": "e3ebec1a",
   "metadata": {},
   "outputs": [],
   "source": []
  }
 ],
 "metadata": {
  "kernelspec": {
   "display_name": "allensdk",
   "language": "python",
   "name": "allensdk"
  },
  "language_info": {
   "codemirror_mode": {
    "name": "ipython",
    "version": 3
   },
   "file_extension": ".py",
   "mimetype": "text/x-python",
   "name": "python",
   "nbconvert_exporter": "python",
   "pygments_lexer": "ipython3",
   "version": "3.8.0"
  }
 },
 "nbformat": 4,
 "nbformat_minor": 5
}
