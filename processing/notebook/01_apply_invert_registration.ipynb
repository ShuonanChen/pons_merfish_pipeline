{
 "cells": [
  {
   "cell_type": "code",
   "execution_count": null,
   "id": "5ef04b04",
   "metadata": {},
   "outputs": [],
   "source": [
    "import pandas as pd\n",
    "import numpy as np\n",
    "import matplotlib.pyplot as plt\n",
    "import seaborn as sns\n",
    "import plotly.express as px\n",
    "import json\n",
    "import cv2\n",
    "import os,glob\n",
    "import re\n",
    "\n",
    "from func.registerCCF_util import *"
   ]
  },
  {
   "cell_type": "markdown",
   "id": "c0bc2ee6",
   "metadata": {},
   "source": [
    "**adjust cwd as necessary**"
   ]
  },
  {
   "cell_type": "code",
   "execution_count": null,
   "id": "5a3364bf",
   "metadata": {},
   "outputs": [],
   "source": [
    "os.getcwd()"
   ]
  },
  {
   "cell_type": "code",
   "execution_count": null,
   "id": "4cf52612",
   "metadata": {},
   "outputs": [],
   "source": [
    "scaling_factor=1/32;\n",
    "name_of_slice = 'MouseZM_ZM3'"
   ]
  },
  {
   "cell_type": "code",
   "execution_count": null,
   "id": "46a3edcb",
   "metadata": {},
   "outputs": [],
   "source": [
    "image_files=glob.glob(f'*{name_of_slice}.jpg')\n",
    "slicenum=[]\n",
    "for i in image_files:     \n",
    "    result=re.search('(.*).jpg', i)\n",
    "    n=result.group(1)\n",
    "    slicenum+=[n]\n",
    "\n",
    "slicenum = ['1']"
   ]
  },
  {
   "cell_type": "code",
   "execution_count": null,
   "id": "41918799",
   "metadata": {},
   "outputs": [],
   "source": [
    "flat_name=[]  \n",
    "for i in image_files:\n",
    "    result=re.search('(.*).jpg', i)\n",
    "    n=result.group(1)+('_nl.flat')\n",
    "    flat_name+=[n]\n",
    "slicenum=[int(i) for i in slicenum]\n"
   ]
  },
  {
   "cell_type": "code",
   "execution_count": null,
   "id": "545158c4",
   "metadata": {},
   "outputs": [],
   "source": [
    "im = cv2.imread(image_files[0])\n",
    "w=im.shape[1]\n",
    "h=im.shape[0]\n",
    "\n",
    "json_name=image_files \n",
    "d = {'slicenum': slicenum, 'json_name': json_name,'flat_name':flat_name}\n",
    "name_df=pd.DataFrame(data=d)\n"
   ]
  },
  {
   "cell_type": "markdown",
   "id": "f96562c2",
   "metadata": {},
   "source": [
    "# load and apply scaling factor"
   ]
  },
  {
   "cell_type": "code",
   "execution_count": null,
   "id": "63c4f387",
   "metadata": {},
   "outputs": [],
   "source": [
    "neurons=pd.read_csv(f'./filt_neurons_all/filt_neurons_{name_of_slice}.csv')\n",
    "neurons=neurons[neurons['slice'].isin(slicenum)]\n",
    "Max=neurons['x'].max()\n",
    "Min=neurons['y'].max()\n",
    "neurons['rescale_x']=(neurons['x']*scaling_factor)\n",
    "neurons['rescale_y']=(neurons['y']*scaling_factor)\n"
   ]
  },
  {
   "cell_type": "code",
   "execution_count": null,
   "id": "a1c29f3c",
   "metadata": {},
   "outputs": [],
   "source": []
  },
  {
   "cell_type": "markdown",
   "id": "ae44b702",
   "metadata": {},
   "source": [
    "# invert visualign"
   ]
  },
  {
   "cell_type": "code",
   "execution_count": null,
   "id": "2bb01735",
   "metadata": {},
   "outputs": [],
   "source": [
    "\n",
    "with open(\"visualign.json\") as f:\n",
    "    vafile=json.load(f)\n",
    "details={s.get('filename'):s for s in vafile['slices']}\n",
    "assert(name_of_slice in list(details.keys())[0])"
   ]
  },
  {
   "cell_type": "code",
   "execution_count": null,
   "id": "2ad78838",
   "metadata": {},
   "outputs": [],
   "source": [
    "\n",
    "neurons[['adjusted_x', 'adjusted_y']] = neurons.groupby('slice').apply(get_adjusted_points).reset_index(drop=True)\n",
    "neurons_nl=neurons.copy()\n",
    "neurons_nl['clustid'] =neurons_nl['clustid'].astype(str)"
   ]
  },
  {
   "cell_type": "markdown",
   "id": "1a01e644",
   "metadata": {},
   "source": [
    "# invert quickniiii"
   ]
  },
  {
   "cell_type": "code",
   "execution_count": null,
   "id": "a9b32f8a",
   "metadata": {},
   "outputs": [],
   "source": [
    "def get_record(s):\n",
    "    return {\n",
    "        'filename':s.get('filename'),\n",
    "        'height': s.get('height'),\n",
    "        'width': s.get('width'), \n",
    "        'ox': s.get('anchoring')[0], \n",
    "        'oy': s.get('anchoring')[1],\n",
    "        'oz': s.get('anchoring')[2],\n",
    "        'ux': s.get('anchoring')[3],\n",
    "        'uy': s.get('anchoring')[4],\n",
    "        'uz': s.get('anchoring')[5], \n",
    "        'vx': s.get('anchoring')[6], \n",
    "        'vy': s.get('anchoring')[7],\n",
    "        'vz': s.get('anchoring')[8],\n",
    "    }"
   ]
  },
  {
   "cell_type": "code",
   "execution_count": null,
   "id": "d422e6b6",
   "metadata": {},
   "outputs": [],
   "source": [
    "f = open('quicknii.json','r')\n",
    "data=json.loads(f.read())\n",
    "anchor=pd.DataFrame.from_records([get_record(s) for s in data['slices']])\n",
    "f.close()\n",
    "\n",
    "vox_dfs = []\n",
    "for slice_num, df in neurons_nl.groupby('slice'):\n",
    "    quicknii_cord = get_quicknii_cord(slice_num, df,h,w) # Height and Width of image file\n",
    "    vox_cord = get_vox_cord(quicknii_cord)\n",
    "    vox_dfs += [vox_cord]    \n",
    "vox_df = pd.concat(vox_dfs)\n"
   ]
  },
  {
   "cell_type": "code",
   "execution_count": null,
   "id": "947611d7",
   "metadata": {},
   "outputs": [],
   "source": []
  },
  {
   "cell_type": "markdown",
   "id": "3f282b18",
   "metadata": {},
   "source": [
    "# plot the results"
   ]
  },
  {
   "cell_type": "code",
   "execution_count": null,
   "id": "a7af1d96",
   "metadata": {},
   "outputs": [],
   "source": [
    "\n",
    "plot_df = vox_df.copy()\n",
    "fig = px.scatter_3d(plot_df, x='y_CCF', y='z_CCF', z='x_CCF', color='clustid')\n",
    "fig.update_traces(marker=dict(size=.5),\n",
    "                  selector=dict(mode='markers'))\n",
    "fig.update_scenes(aspectmode='data')\n",
    "fig.show()"
   ]
  },
  {
   "cell_type": "code",
   "execution_count": null,
   "id": "0bfb4e7e",
   "metadata": {},
   "outputs": [],
   "source": []
  },
  {
   "cell_type": "markdown",
   "id": "c8497347",
   "metadata": {},
   "source": [
    "# save"
   ]
  },
  {
   "cell_type": "code",
   "execution_count": null,
   "id": "2c9ce631",
   "metadata": {},
   "outputs": [],
   "source": [
    "\n",
    "vox_df.to_csv(f'./results/registered_{name_of_slice}.csv',index=False)"
   ]
  },
  {
   "cell_type": "code",
   "execution_count": null,
   "id": "2a325fad",
   "metadata": {},
   "outputs": [],
   "source": []
  },
  {
   "cell_type": "code",
   "execution_count": null,
   "id": "e36e407c",
   "metadata": {},
   "outputs": [],
   "source": [
    "print(f'done for {name_of_slice}')"
   ]
  }
 ],
 "metadata": {
  "kernelspec": {
   "display_name": "torch_on_gpu_kernel",
   "language": "python",
   "name": "torch_on_gpu_kernel"
  },
  "language_info": {
   "codemirror_mode": {
    "name": "ipython",
    "version": 3
   },
   "file_extension": ".py",
   "mimetype": "text/x-python",
   "name": "python",
   "nbconvert_exporter": "python",
   "pygments_lexer": "ipython3",
   "version": "3.10.0"
  }
 },
 "nbformat": 4,
 "nbformat_minor": 5
}
