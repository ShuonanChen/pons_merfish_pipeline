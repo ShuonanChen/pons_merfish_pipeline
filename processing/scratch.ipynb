{
 "cells": [
  {
   "cell_type": "markdown",
   "id": "4d3354c5",
   "metadata": {},
   "source": [
    "# get all the file directories"
   ]
  },
  {
   "cell_type": "code",
   "execution_count": 2,
   "id": "9646b9c7",
   "metadata": {},
   "outputs": [],
   "source": [
    "import glob, sys, os\n",
    "import tifffile\n",
    "from pprint import pprint\n",
    "import matplotlib.pyplot as plt\n",
    "import skimage.transform \n",
    "import numpy as np\n",
    "\n",
    "import tqdm\n",
    "import pandas as pd\n",
    "import h5py"
   ]
  },
  {
   "cell_type": "code",
   "execution_count": 25,
   "id": "29b5f5b9",
   "metadata": {},
   "outputs": [],
   "source": [
    "main_dir = '/allen/aind/scratch/shuonan.chen/pons_images/'\n",
    "all_tifs = (main_dir + '*/' + 'analyzed_data/*/region_*/images/*.tif')\n",
    "name_of_slice_all = [[s for s in f.split('/') if \"Mouse\" in s][0] for f in glob.glob(all_tifs)]"
   ]
  },
  {
   "cell_type": "code",
   "execution_count": 26,
   "id": "1c6d2073",
   "metadata": {
    "scrolled": false
   },
   "outputs": [
    {
     "name": "stdout",
     "output_type": "stream",
     "text": [
      "/allen/aind/scratch/shuonan.chen/pons_images/MouseC_C1/analyzed_data/VS6MsBrain_C1_VS6libary_V3_LH_03-14-21/region_1/cell_metadata.csv\n",
      "/allen/aind/scratch/shuonan.chen/pons_images/MouseC_C2/analyzed_data/VS6MsBrain_C2_VS6libary_V1_LH_03-14-21/region_1/cell_metadata.csv\n",
      "/allen/aind/scratch/shuonan.chen/pons_images/MouseC_C3/analyzed_data/VS6MsBrain_C3_VS6libary_V10_LH_03-15-21/region_1/cell_metadata.csv\n",
      "/allen/aind/scratch/shuonan.chen/pons_images/MouseC_C4/analyzed_data/VS6MsBrain_C4_VS6libary_V1_LH_03-17-21/region_1/cell_metadata.csv\n",
      "/allen/aind/scratch/shuonan.chen/pons_images/MouseC_C5/analyzed_data/VS6MsBrain_C5_VS6libary_V3_LH_03-17-21/region_0/cell_metadata.csv\n",
      "/allen/aind/scratch/shuonan.chen/pons_images/MouseEg_B3/analyzed_data/VS6_MsBrain_B3_VS6library_V10_LH_02-07-21/region_1/cell_metadata.csv\n",
      "/allen/aind/scratch/shuonan.chen/pons_images/MouseEg_Eg1/analyzed_data/MsBrain_Eg1_VS6_JH_V6_05-02-2021/region_1/cell_metadata.csv\n",
      "/allen/aind/scratch/shuonan.chen/pons_images/MouseEg_Eg2/analyzed_data/MsBrain_Eg2_VS6_V11_JH_05-02-2021/region_0/cell_metadata.csv\n",
      "/allen/aind/scratch/shuonan.chen/pons_images/MouseEg_Eg2/analyzed_data/MsBrain_Eg2_VS6_V11_JH_05-02-2021/region_0/cell_metadata.csv\n",
      "/allen/aind/scratch/shuonan.chen/pons_images/MouseEg_Eg2/analyzed_data/MsBrain_Eg2_VS6_V11_JH_05-02-2021/region_0/cell_metadata.csv\n",
      "/allen/aind/scratch/shuonan.chen/pons_images/MouseEg_Eg2/analyzed_data/MsBrain_Eg2_VS6_V11_JH_05-02-2021/region_0/cell_metadata.csv\n",
      "/allen/aind/scratch/shuonan.chen/pons_images/MouseEg_Eg2/analyzed_data/MsBrain_Eg2_VS6_V11_JH_05-02-2021/region_0/cell_metadata.csv\n",
      "/allen/aind/scratch/shuonan.chen/pons_images/MouseEg_Eg2/analyzed_data/MsBrain_Eg2_VS6_V11_JH_05-02-2021/region_0/cell_metadata.csv\n",
      "/allen/aind/scratch/shuonan.chen/pons_images/MouseEg_Eg2/analyzed_data/MsBrain_Eg2_VS6_V11_JH_05-02-2021/region_0/cell_metadata.csv\n",
      "/allen/aind/scratch/shuonan.chen/pons_images/MouseEg_Eg2/analyzed_data/MsBrain_Eg2_VS6_V11_JH_05-02-2021/region_0/cell_metadata.csv\n",
      "/allen/aind/scratch/shuonan.chen/pons_images/MouseEg_Eg2/analyzed_data/MsBrain_Eg2_VS6_V11_JH_05-02-2021/region_0/cell_metadata.csv\n",
      "/allen/aind/scratch/shuonan.chen/pons_images/MouseEg_Eg2/analyzed_data/MsBrain_Eg2_VS6_V11_JH_05-02-2021/region_0/cell_metadata.csv\n",
      "/allen/aind/scratch/shuonan.chen/pons_images/MouseEg_Eg2/analyzed_data/MsBrain_Eg2_VS6_V11_JH_05-02-2021/region_0/cell_metadata.csv\n",
      "/allen/aind/scratch/shuonan.chen/pons_images/MouseEg_Eg2/analyzed_data/MsBrain_Eg2_VS6_V11_JH_05-02-2021/region_0/cell_metadata.csv\n",
      "/allen/aind/scratch/shuonan.chen/pons_images/MouseEg_Eg2/analyzed_data/MsBrain_Eg2_VS6_V11_JH_05-02-2021/region_0/cell_metadata.csv\n",
      "/allen/aind/scratch/shuonan.chen/pons_images/MouseEg_Eg2/analyzed_data/MsBrain_Eg2_VS6_V11_JH_05-02-2021/region_0/cell_metadata.csv\n",
      "/allen/aind/scratch/shuonan.chen/pons_images/MouseEg_Eg2/analyzed_data/MsBrain_Eg2_VS6_V11_JH_05-02-2021/region_0/cell_metadata.csv\n",
      "/allen/aind/scratch/shuonan.chen/pons_images/MouseEg_Eg3/analyzed_data/MsBrain_Eg3_VS6_JH_V6_05-01-2021/region_1/cell_metadata.csv\n",
      "/allen/aind/scratch/shuonan.chen/pons_images/MouseEg_Eg4/analyzed_data/VS6MsBrain_EG4_VS6library_V6_LH_04-14-21/region_1/cell_metadata.csv\n",
      "/allen/aind/scratch/shuonan.chen/pons_images/MouseEg_Eg5/analyzed_data/MsBrain_Eg5_VS6_JH_V6_05-16-2021/region_1/cell_metadata.csv\n",
      "/allen/aind/scratch/shuonan.chen/pons_images/MouseF_F1/analyzed_data/VS6MsBrain_F1_VS6libary_V10_LH_03-19-21/region_0/cell_metadata.csv\n",
      "/allen/aind/scratch/shuonan.chen/pons_images/MouseF_F2/analyzed_data/VS6MsBrain_F2_VS6libary_V3_LH_03-21-21/region_0/cell_metadata.csv\n",
      "/allen/aind/scratch/shuonan.chen/pons_images/MouseF_F3/analyzed_data/VS6MsBrain_F3_VS6libary_V10_LH_03-21-21/region_1/cell_metadata.csv\n",
      "/allen/aind/scratch/shuonan.chen/pons_images/MouseF_F4/analyzed_data/VS6MsBrain_F4_VS6libary_V3_LH_03-19-21/region_0/cell_metadata.csv\n",
      "/allen/aind/scratch/shuonan.chen/pons_images/MouseF_F5/analyzed_data/VS6MsBrain_F5_VS6libary_V10_LH_03-17-21/region_0/cell_metadata.csv\n",
      "/allen/aind/scratch/shuonan.chen/pons_images/MouseZM_ZM0/analyzed_data/MsBrain_ZM0_VS6_JH_V6_05-15-2021/region_0/cell_metadata.csv\n",
      "/allen/aind/scratch/shuonan.chen/pons_images/MouseZM_ZM1/analyzed_data/MsBrain_ZM1_VS6_JH_V11_05-16-2021/region_0/cell_metadata.csv\n",
      "/allen/aind/scratch/shuonan.chen/pons_images/MouseZM_ZM2/analyzed_data/MsBrain_ZM2_VS6_JH_V11_05-15-2021/region_0/cell_metadata.csv\n",
      "/allen/aind/scratch/shuonan.chen/pons_images/MouseZM_ZM3/analyzed_data/MsBrain_ZM3_VS6_JH_V11_05-17-2021/region_0/cell_metadata.csv\n",
      "/allen/aind/scratch/shuonan.chen/pons_images/MouseZM_ZM4/analyzed_data/MsBrain_ZM4_VS6_JH_V11_05-11-2021/region_0/cell_metadata.csv\n",
      "/allen/aind/scratch/shuonan.chen/pons_images/MouseZM_ZM5p1/analyzed_data/MsBrain_ZM5.1_VS6_JH_V11_05-12-2021/region_0/cell_metadata.csv\n",
      "/allen/aind/scratch/shuonan.chen/pons_images/MouseZM_ZM5p2/analyzed_data/MsBrain_ZM5.2_VS6_JH_V6_05-13-2021/region_0/cell_metadata.csv\n",
      "/allen/aind/scratch/shuonan.chen/pons_images/MouseZM_ZM6p1/analyzed_data/MsBrain_ZM6.1_VS6_V6_JH_05-11-2021/region_0/cell_metadata.csv\n",
      "/allen/aind/scratch/shuonan.chen/pons_images/MouseZM_ZM7p1/analyzed_data/MsBrain_ZM7.1_VS6_V6_JH_05-12-2021/region_0/cell_metadata.csv\n",
      "/allen/aind/scratch/shuonan.chen/pons_images/MouseZM_ZM7p2/analyzed_data/MsBrain_ZM7.2_VS6_JH_V11_05-13-2021/region_0/cell_metadata.csv\n",
      "/allen/aind/scratch/shuonan.chen/pons_images/MouseZM_ZM7p2/analyzed_data/MsBrain_ZM7.2_VS6_JH_V11_05-13-2021/region_0/cell_metadata.csv\n",
      "/allen/aind/scratch/shuonan.chen/pons_images/MouseZM_ZM7p2/analyzed_data/MsBrain_ZM7.2_VS6_JH_V11_05-13-2021/region_0/cell_metadata.csv\n",
      "/allen/aind/scratch/shuonan.chen/pons_images/MouseZM_ZM7p2/analyzed_data/MsBrain_ZM7.2_VS6_JH_V11_05-13-2021/region_0/cell_metadata.csv\n",
      "/allen/aind/scratch/shuonan.chen/pons_images/MouseZM_ZM7p2/analyzed_data/MsBrain_ZM7.2_VS6_JH_V11_05-13-2021/region_0/cell_metadata.csv\n",
      "/allen/aind/scratch/shuonan.chen/pons_images/MouseZM_ZM7p2/analyzed_data/MsBrain_ZM7.2_VS6_JH_V11_05-13-2021/region_0/cell_metadata.csv\n",
      "/allen/aind/scratch/shuonan.chen/pons_images/MouseZM_ZM7p2/analyzed_data/MsBrain_ZM7.2_VS6_JH_V11_05-13-2021/region_0/cell_metadata.csv\n",
      "/allen/aind/scratch/shuonan.chen/pons_images/MouseZM_ZM7p2/analyzed_data/MsBrain_ZM7.2_VS6_JH_V11_05-13-2021/region_0/cell_metadata.csv\n",
      "/allen/aind/scratch/shuonan.chen/pons_images/MouseZM_ZM7p2/analyzed_data/MsBrain_ZM7.2_VS6_JH_V11_05-13-2021/region_0/cell_metadata.csv\n",
      "/allen/aind/scratch/shuonan.chen/pons_images/MouseZM_ZM7p2/analyzed_data/MsBrain_ZM7.2_VS6_JH_V11_05-13-2021/region_0/cell_metadata.csv\n",
      "/allen/aind/scratch/shuonan.chen/pons_images/MouseZM_ZM7p2/analyzed_data/MsBrain_ZM7.2_VS6_JH_V11_05-13-2021/region_0/cell_metadata.csv\n",
      "/allen/aind/scratch/shuonan.chen/pons_images/MouseZM_ZM7p2/analyzed_data/MsBrain_ZM7.2_VS6_JH_V11_05-13-2021/region_0/cell_metadata.csv\n",
      "/allen/aind/scratch/shuonan.chen/pons_images/MouseZM_ZM7p2/analyzed_data/MsBrain_ZM7.2_VS6_JH_V11_05-13-2021/region_0/cell_metadata.csv\n",
      "/allen/aind/scratch/shuonan.chen/pons_images/MouseZM_ZM7p2/analyzed_data/MsBrain_ZM7.2_VS6_JH_V11_05-13-2021/region_0/cell_metadata.csv\n"
     ]
    }
   ],
   "source": [
    "for name_of_slice in name_of_slice_all:\n",
    "    thisdircheck = (main_dir + name_of_slice + '/' + 'analyzed_data/*/region_*/')\n",
    "    cell_loc_path = glob.glob(thisdircheck + 'cell_metadata.csv')[0]\n",
    "    countmatrix_path = glob.glob(thisdircheck+'cell_by_gene.csv')[0]\n",
    "    print(cell_loc_path)"
   ]
  },
  {
   "cell_type": "code",
   "execution_count": null,
   "id": "b6b0e9d4",
   "metadata": {},
   "outputs": [],
   "source": []
  },
  {
   "cell_type": "code",
   "execution_count": null,
   "id": "9d3bae10",
   "metadata": {},
   "outputs": [],
   "source": []
  },
  {
   "cell_type": "code",
   "execution_count": null,
   "id": "1ff94cd7",
   "metadata": {},
   "outputs": [],
   "source": []
  },
  {
   "cell_type": "code",
   "execution_count": null,
   "id": "a8e4dde3",
   "metadata": {},
   "outputs": [],
   "source": []
  },
  {
   "cell_type": "code",
   "execution_count": null,
   "id": "e3ebec1a",
   "metadata": {},
   "outputs": [],
   "source": []
  }
 ],
 "metadata": {
  "kernelspec": {
   "display_name": "allensdk",
   "language": "python",
   "name": "allensdk"
  },
  "language_info": {
   "codemirror_mode": {
    "name": "ipython",
    "version": 3
   },
   "file_extension": ".py",
   "mimetype": "text/x-python",
   "name": "python",
   "nbconvert_exporter": "python",
   "pygments_lexer": "ipython3",
   "version": "3.8.0"
  }
 },
 "nbformat": 4,
 "nbformat_minor": 5
}
