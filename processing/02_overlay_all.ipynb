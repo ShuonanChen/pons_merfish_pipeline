{
 "cells": [
  {
   "cell_type": "code",
   "execution_count": null,
   "id": "46507a07",
   "metadata": {},
   "outputs": [],
   "source": [
    "import pandas as pd\n",
    "import numpy as np\n",
    "import matplotlib.pyplot as plt\n",
    "import trimesh\n",
    "import plotly.express as px\n",
    "import plotly.graph_objects as go\n",
    "import os,glob,sys\n",
    "from plotly.subplots import make_subplots\n",
    "from pprint import pprint"
   ]
  },
  {
   "cell_type": "code",
   "execution_count": null,
   "id": "4841f630",
   "metadata": {},
   "outputs": [],
   "source": [
    "# where the original data is saved\n",
    "homedir = '/allen/aind/scratch/shuonan.chen/pons_images/'"
   ]
  },
  {
   "cell_type": "code",
   "execution_count": null,
   "id": "b1469bf3",
   "metadata": {},
   "outputs": [],
   "source": [
    "reg_file_path = '/home/shuonan.chen/scripts/Pons_MERFISH/registration_files/registered/'\n",
    "pprint(glob.glob(reg_file_path+'*'))\n"
   ]
  },
  {
   "cell_type": "code",
   "execution_count": null,
   "id": "b3e9e7f6",
   "metadata": {},
   "outputs": [],
   "source": [
    "slicename_all = [os.path.basename(f).split('.')[0].split('registered_')[1] for f in glob.glob(reg_file_path+'*')]\n",
    "slicename_all.sort()\n",
    "len(slicename_all)"
   ]
  },
  {
   "cell_type": "code",
   "execution_count": null,
   "id": "e6458e6f",
   "metadata": {},
   "outputs": [],
   "source": [
    "\n",
    "genecounts_all = dict()\n",
    "reg_points_all = dict()\n",
    "for name in slicename_all:    \n",
    "    reg_points_path = reg_file_path + f'registered_{name}.csv'\n",
    "    df = pd.read_csv(reg_points_path)[['neuron_id','x_CCF','y_CCF','z_CCF']]    \n",
    "    reg_points_all[name] = df\n",
    "    \n",
    "    countmatrix_path = glob.glob(homedir + name + '/*' + 'analyzed_data/*/region_*/cell_by_gene.csv')[0]\n",
    "    count_mtx = pd.read_csv(countmatrix_path, index_col=0).sort_index()\n",
    "    genecounts_all[name] = count_mtx"
   ]
  },
  {
   "cell_type": "code",
   "execution_count": null,
   "id": "2d76d965",
   "metadata": {},
   "outputs": [],
   "source": [
    "trace_all = []\n",
    "for name in slicename_all:\n",
    "    plot_df=reg_points_all[name].sample(1000)\n",
    "    tr = go.Scatter3d(x=plot_df['x_CCF'], y=plot_df['y_CCF'], z=plot_df['z_CCF'],\n",
    "                         mode='markers',marker=dict(size=2), name = name)#,color='green'))\n",
    "    trace_all.append(tr)\n",
    "\n",
    "layout = go.Layout(scene = dict(aspectmode='data'))\n",
    "fig = go.Figure(layout=layout)\n",
    "for tr in trace_all:\n",
    "    fig.add_trace(tr)\n",
    "fig.show()\n"
   ]
  },
  {
   "cell_type": "code",
   "execution_count": null,
   "id": "5078c3bd",
   "metadata": {},
   "outputs": [],
   "source": []
  },
  {
   "cell_type": "code",
   "execution_count": null,
   "id": "e4daa234",
   "metadata": {},
   "outputs": [],
   "source": []
  },
  {
   "cell_type": "markdown",
   "id": "8c80b180",
   "metadata": {},
   "source": [
    "# overlay with genes"
   ]
  },
  {
   "cell_type": "code",
   "execution_count": null,
   "id": "80b8b94a",
   "metadata": {},
   "outputs": [],
   "source": [
    "intersted_genes = ['Trhr','Pdyn','Tacr3',\n",
    "                   'Shox2','Gpr101',]\n",
    "markergenes = ['Dbh', 'Th', 'Slc6a2']"
   ]
  }
 ],
 "metadata": {
  "kernelspec": {
   "display_name": "allensdk",
   "language": "python",
   "name": "allensdk"
  },
  "language_info": {
   "codemirror_mode": {
    "name": "ipython",
    "version": 3
   },
   "file_extension": ".py",
   "mimetype": "text/x-python",
   "name": "python",
   "nbconvert_exporter": "python",
   "pygments_lexer": "ipython3",
   "version": "3.8.0"
  }
 },
 "nbformat": 4,
 "nbformat_minor": 5
}
